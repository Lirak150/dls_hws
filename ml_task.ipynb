{
  "nbformat": 4,
  "nbformat_minor": 0,
  "metadata": {
    "kernelspec": {
      "display_name": "Python 3",
      "language": "python",
      "name": "python3"
    },
    "language_info": {
      "codemirror_mode": {
        "name": "ipython",
        "version": 3
      },
      "file_extension": ".py",
      "mimetype": "text/x-python",
      "name": "python",
      "nbconvert_exporter": "python",
      "pygments_lexer": "ipython3",
      "version": "3.7.4"
    },
    "colab": {
      "name": "baseline.ipynb",
      "provenance": [],
      "collapsed_sections": []
    }
  },
  "cells": [
    {
      "cell_type": "markdown",
      "metadata": {
        "id": "TK7oX5qdEEYr"
      },
      "source": [
        "<p style=\"align: center;\"><img align=center src=\"https://s8.hostingkartinok.com/uploads/images/2018/08/308b49fcfbc619d629fe4604bceb67ac.jpg\" width=500 height=450/></p>\n",
        "\n",
        "<h3 style=\"text-align: center;\"><b>Школа глубокого обучения ФПМИ МФТИ</b></h3>\n",
        "\n",
        "<h3 style=\"text-align: center;\"><b>Домашнее задание. Продвинутый поток. Весна 2021</b></h3>\n",
        "\n",
        "Это домашнее задание будет посвящено полноценному решению задачи машинного обучения."
      ]
    },
    {
      "cell_type": "markdown",
      "metadata": {
        "id": "zlB-owfaEEYs"
      },
      "source": [
        "Есть две части этого домашнего задания: \n",
        "* Сделать полноценный отчет о вашей работе: как вы обработали данные, какие модели попробовали и какие результаты получились (максимум 10 баллов). За каждую выполненную часть будет начислено определенное количество баллов.\n",
        "* Лучшее решение отправить в соревнование на [kaggle](https://www.kaggle.com/c/advanced-dls-spring-2021/) (максимум 5 баллов). За прохождение определенного порогов будут начисляться баллы.\n",
        "\n",
        "\n",
        "**Обе части будут проверяться в формате peer-review. Т.е. вашу посылку на степик будут проверять несколько других студентов и аггрегация их оценок будет выставлена. В то же время вам тоже нужно будет проверить несколько других учеников.**\n",
        "\n",
        "**Пожалуйста, делайте свою работу чистой и понятной, чтобы облегчить проверку. Если у вас будут проблемы с решением или хочется совета, то пишите в наш чат в телеграме или в лс @runfme. Если вы захотите проаппелировать оценку, то пипшите в лс @runfme.**\n",
        "\n",
        "**Во всех пунктах указания это минимальный набор вещей, которые стоит сделать. Если вы можете сделать какой-то шаг лучше или добавить что-то свое - дерзайте!**"
      ]
    },
    {
      "cell_type": "markdown",
      "metadata": {
        "id": "Tu_JvqcBEN8Y"
      },
      "source": [
        "# Как проверять?\n",
        "\n",
        "Ставьте полный балл, если выполнены все рекомендации или сделано что-то более интересное и сложное. За каждый отсустствующий пункт из рекомендация снижайте 1 балл."
      ]
    },
    {
      "cell_type": "markdown",
      "metadata": {
        "id": "ninJ63mJEEYt"
      },
      "source": [
        "# Метрика\n",
        "\n",
        "Перед решением любой задачи важно понимать, как будет оцениваться ваше решение. В данном случае мы используем стандартную для задачи классификации метрику ROC-AUC. Ее можно вычислить используя только предсказанные вероятности и истинные классы без конкретного порога классификации + она раотает даже если классы в данных сильно несбалансированны (примеров одного класса в десятки раз больше примеров длугого). Именно поэтому она очень удобна для соревнований.\n",
        "\n",
        "Посчитать ее легко:\n"
      ]
    },
    {
      "cell_type": "code",
      "metadata": {
        "id": "SQIrka7yEEYu",
        "colab": {
          "base_uri": "https://localhost:8080/"
        },
        "outputId": "b6d47b61-6f08-4281-b04a-befd106abda4"
      },
      "source": [
        "from sklearn.metrics import roc_auc_score\n",
        "\n",
        "y_true = [\n",
        "    0,\n",
        "    1,\n",
        "    1,\n",
        "    0,\n",
        "    1\n",
        "]\n",
        "\n",
        "y_predictions = [\n",
        "    0.1,\n",
        "    0.9,\n",
        "    0.4,\n",
        "    0.6,\n",
        "    0.61\n",
        "]\n",
        "\n",
        "roc_auc_score(y_true, y_predictions)"
      ],
      "execution_count": 111,
      "outputs": [
        {
          "output_type": "execute_result",
          "data": {
            "text/plain": [
              "0.8333333333333333"
            ]
          },
          "metadata": {},
          "execution_count": 111
        }
      ]
    },
    {
      "cell_type": "markdown",
      "metadata": {
        "id": "IrDNNkNTEEYz"
      },
      "source": [
        "# Первая часть. Исследование"
      ]
    },
    {
      "cell_type": "code",
      "metadata": {
        "id": "lzLqEeZKEEYz"
      },
      "source": [
        "import pandas as pd\n",
        "import numpy as np\n",
        "from matplotlib import pyplot as plt\n",
        "import seaborn as sns\n",
        "\n",
        "import math"
      ],
      "execution_count": 112,
      "outputs": []
    },
    {
      "cell_type": "markdown",
      "metadata": {
        "id": "LOlxdURSEEY3"
      },
      "source": [
        "## Загрузка данных (2 балла)\n",
        "\n",
        "1) Посмотрите на случайные строчки. \n",
        "\n",
        "2) Посмотрите, есть ли в датасете незаполненные значения (nan'ы) с помощью data.isna() или data.info() и, если нужно, замените их на что-то. Будет хорошо, если вы построите табличку с количеством nan в каждой колонке."
      ]
    },
    {
      "cell_type": "code",
      "metadata": {
        "id": "pw-Brue9EEY3"
      },
      "source": [
        "data = pd.read_csv('train.csv')"
      ],
      "execution_count": 113,
      "outputs": []
    },
    {
      "cell_type": "code",
      "metadata": {
        "id": "KgnkkF5bEEY9"
      },
      "source": [
        "# Для вашего удобства списки с именами разных колонок\n",
        "\n",
        "# Числовые признаки\n",
        "num_cols = [\n",
        "    'ClientPeriod',\n",
        "    'MonthlySpending',\n",
        "    'TotalSpent'\n",
        "]\n",
        "\n",
        "# Категориальные признаки\n",
        "cat_cols = [\n",
        "    'Sex',\n",
        "    'IsSeniorCitizen',\n",
        "    'HasPartner',\n",
        "    'HasChild',\n",
        "    'HasPhoneService',\n",
        "    'HasMultiplePhoneNumbers',\n",
        "    'HasInternetService',\n",
        "    'HasOnlineSecurityService',\n",
        "    'HasOnlineBackup',\n",
        "    'HasDeviceProtection',\n",
        "    'HasTechSupportAccess',\n",
        "    'HasOnlineTV',\n",
        "    'HasMovieSubscription',\n",
        "    'HasContractPhone',\n",
        "    'IsBillingPaperless',\n",
        "    'PaymentMethod'\n",
        "]\n",
        "\n",
        "feature_cols = num_cols + cat_cols\n",
        "target_col = 'Churn'"
      ],
      "execution_count": 114,
      "outputs": []
    },
    {
      "cell_type": "code",
      "metadata": {
        "colab": {
          "base_uri": "https://localhost:8080/",
          "height": 306
        },
        "id": "NOfjOsZdR_RB",
        "outputId": "db3e41da-8265-4f56-9479-0a475bc43dbf"
      },
      "source": [
        "data.iloc[np.random.permutation(data.shape[0])[:5]]"
      ],
      "execution_count": 115,
      "outputs": [
        {
          "output_type": "execute_result",
          "data": {
            "text/html": [
              "<div>\n",
              "<style scoped>\n",
              "    .dataframe tbody tr th:only-of-type {\n",
              "        vertical-align: middle;\n",
              "    }\n",
              "\n",
              "    .dataframe tbody tr th {\n",
              "        vertical-align: top;\n",
              "    }\n",
              "\n",
              "    .dataframe thead th {\n",
              "        text-align: right;\n",
              "    }\n",
              "</style>\n",
              "<table border=\"1\" class=\"dataframe\">\n",
              "  <thead>\n",
              "    <tr style=\"text-align: right;\">\n",
              "      <th></th>\n",
              "      <th>ClientPeriod</th>\n",
              "      <th>MonthlySpending</th>\n",
              "      <th>TotalSpent</th>\n",
              "      <th>Sex</th>\n",
              "      <th>IsSeniorCitizen</th>\n",
              "      <th>HasPartner</th>\n",
              "      <th>HasChild</th>\n",
              "      <th>HasPhoneService</th>\n",
              "      <th>HasMultiplePhoneNumbers</th>\n",
              "      <th>HasInternetService</th>\n",
              "      <th>HasOnlineSecurityService</th>\n",
              "      <th>HasOnlineBackup</th>\n",
              "      <th>HasDeviceProtection</th>\n",
              "      <th>HasTechSupportAccess</th>\n",
              "      <th>HasOnlineTV</th>\n",
              "      <th>HasMovieSubscription</th>\n",
              "      <th>HasContractPhone</th>\n",
              "      <th>IsBillingPaperless</th>\n",
              "      <th>PaymentMethod</th>\n",
              "      <th>Churn</th>\n",
              "    </tr>\n",
              "  </thead>\n",
              "  <tbody>\n",
              "    <tr>\n",
              "      <th>475</th>\n",
              "      <td>49</td>\n",
              "      <td>19.45</td>\n",
              "      <td>921.3</td>\n",
              "      <td>Female</td>\n",
              "      <td>0</td>\n",
              "      <td>No</td>\n",
              "      <td>Yes</td>\n",
              "      <td>Yes</td>\n",
              "      <td>No</td>\n",
              "      <td>No</td>\n",
              "      <td>No internet service</td>\n",
              "      <td>No internet service</td>\n",
              "      <td>No internet service</td>\n",
              "      <td>No internet service</td>\n",
              "      <td>No internet service</td>\n",
              "      <td>No internet service</td>\n",
              "      <td>One year</td>\n",
              "      <td>No</td>\n",
              "      <td>Credit card (automatic)</td>\n",
              "      <td>0</td>\n",
              "    </tr>\n",
              "    <tr>\n",
              "      <th>972</th>\n",
              "      <td>52</td>\n",
              "      <td>44.25</td>\n",
              "      <td>2276.1</td>\n",
              "      <td>Male</td>\n",
              "      <td>0</td>\n",
              "      <td>Yes</td>\n",
              "      <td>Yes</td>\n",
              "      <td>No</td>\n",
              "      <td>No phone service</td>\n",
              "      <td>DSL</td>\n",
              "      <td>Yes</td>\n",
              "      <td>No</td>\n",
              "      <td>Yes</td>\n",
              "      <td>No</td>\n",
              "      <td>No</td>\n",
              "      <td>Yes</td>\n",
              "      <td>One year</td>\n",
              "      <td>No</td>\n",
              "      <td>Bank transfer (automatic)</td>\n",
              "      <td>0</td>\n",
              "    </tr>\n",
              "    <tr>\n",
              "      <th>4437</th>\n",
              "      <td>9</td>\n",
              "      <td>74.25</td>\n",
              "      <td>639.65</td>\n",
              "      <td>Female</td>\n",
              "      <td>0</td>\n",
              "      <td>No</td>\n",
              "      <td>No</td>\n",
              "      <td>Yes</td>\n",
              "      <td>No</td>\n",
              "      <td>Fiber optic</td>\n",
              "      <td>Yes</td>\n",
              "      <td>No</td>\n",
              "      <td>No</td>\n",
              "      <td>No</td>\n",
              "      <td>No</td>\n",
              "      <td>No</td>\n",
              "      <td>Month-to-month</td>\n",
              "      <td>Yes</td>\n",
              "      <td>Credit card (automatic)</td>\n",
              "      <td>1</td>\n",
              "    </tr>\n",
              "    <tr>\n",
              "      <th>3552</th>\n",
              "      <td>6</td>\n",
              "      <td>18.95</td>\n",
              "      <td>110.15</td>\n",
              "      <td>Male</td>\n",
              "      <td>0</td>\n",
              "      <td>No</td>\n",
              "      <td>No</td>\n",
              "      <td>Yes</td>\n",
              "      <td>No</td>\n",
              "      <td>No</td>\n",
              "      <td>No internet service</td>\n",
              "      <td>No internet service</td>\n",
              "      <td>No internet service</td>\n",
              "      <td>No internet service</td>\n",
              "      <td>No internet service</td>\n",
              "      <td>No internet service</td>\n",
              "      <td>Month-to-month</td>\n",
              "      <td>No</td>\n",
              "      <td>Mailed check</td>\n",
              "      <td>0</td>\n",
              "    </tr>\n",
              "    <tr>\n",
              "      <th>4287</th>\n",
              "      <td>70</td>\n",
              "      <td>98.30</td>\n",
              "      <td>6859.5</td>\n",
              "      <td>Male</td>\n",
              "      <td>0</td>\n",
              "      <td>Yes</td>\n",
              "      <td>Yes</td>\n",
              "      <td>Yes</td>\n",
              "      <td>Yes</td>\n",
              "      <td>Fiber optic</td>\n",
              "      <td>No</td>\n",
              "      <td>Yes</td>\n",
              "      <td>No</td>\n",
              "      <td>No</td>\n",
              "      <td>Yes</td>\n",
              "      <td>Yes</td>\n",
              "      <td>Two year</td>\n",
              "      <td>No</td>\n",
              "      <td>Bank transfer (automatic)</td>\n",
              "      <td>1</td>\n",
              "    </tr>\n",
              "  </tbody>\n",
              "</table>\n",
              "</div>"
            ],
            "text/plain": [
              "      ClientPeriod  MonthlySpending  ...              PaymentMethod Churn\n",
              "475             49            19.45  ...    Credit card (automatic)     0\n",
              "972             52            44.25  ...  Bank transfer (automatic)     0\n",
              "4437             9            74.25  ...    Credit card (automatic)     1\n",
              "3552             6            18.95  ...               Mailed check     0\n",
              "4287            70            98.30  ...  Bank transfer (automatic)     1\n",
              "\n",
              "[5 rows x 20 columns]"
            ]
          },
          "metadata": {},
          "execution_count": 115
        }
      ]
    },
    {
      "cell_type": "code",
      "metadata": {
        "colab": {
          "base_uri": "https://localhost:8080/"
        },
        "id": "WwI3GN7Motgf",
        "outputId": "0c347ee8-47d2-4a6c-ffd5-d0205e898f98"
      },
      "source": [
        "data.isna().sum()"
      ],
      "execution_count": 116,
      "outputs": [
        {
          "output_type": "execute_result",
          "data": {
            "text/plain": [
              "ClientPeriod                0\n",
              "MonthlySpending             0\n",
              "TotalSpent                  0\n",
              "Sex                         0\n",
              "IsSeniorCitizen             0\n",
              "HasPartner                  0\n",
              "HasChild                    0\n",
              "HasPhoneService             0\n",
              "HasMultiplePhoneNumbers     0\n",
              "HasInternetService          0\n",
              "HasOnlineSecurityService    0\n",
              "HasOnlineBackup             0\n",
              "HasDeviceProtection         0\n",
              "HasTechSupportAccess        0\n",
              "HasOnlineTV                 0\n",
              "HasMovieSubscription        0\n",
              "HasContractPhone            0\n",
              "IsBillingPaperless          0\n",
              "PaymentMethod               0\n",
              "Churn                       0\n",
              "dtype: int64"
            ]
          },
          "metadata": {},
          "execution_count": 116
        }
      ]
    },
    {
      "cell_type": "markdown",
      "metadata": {
        "id": "gS3PqYOkKwdh"
      },
      "source": [
        "Заменим все пробелы в ячейках на np.NaN, оказывается, что в колонке TotalSpent есть в train выборке 9 пропущенных значений, но так как количество nan не существенно, это ни на что не повлияет.\n",
        "\n"
      ]
    },
    {
      "cell_type": "code",
      "metadata": {
        "id": "hhN8FPZzSBqU",
        "colab": {
          "base_uri": "https://localhost:8080/",
          "height": 368
        },
        "outputId": "b9845281-3241-4c26-9ea9-3bffef570247"
      },
      "source": [
        "data.TotalSpent = pd.to_numeric(data.TotalSpent, errors='coerce')\n",
        "display(data.isna().sum())"
      ],
      "execution_count": 117,
      "outputs": [
        {
          "output_type": "display_data",
          "data": {
            "text/plain": [
              "ClientPeriod                0\n",
              "MonthlySpending             0\n",
              "TotalSpent                  9\n",
              "Sex                         0\n",
              "IsSeniorCitizen             0\n",
              "HasPartner                  0\n",
              "HasChild                    0\n",
              "HasPhoneService             0\n",
              "HasMultiplePhoneNumbers     0\n",
              "HasInternetService          0\n",
              "HasOnlineSecurityService    0\n",
              "HasOnlineBackup             0\n",
              "HasDeviceProtection         0\n",
              "HasTechSupportAccess        0\n",
              "HasOnlineTV                 0\n",
              "HasMovieSubscription        0\n",
              "HasContractPhone            0\n",
              "IsBillingPaperless          0\n",
              "PaymentMethod               0\n",
              "Churn                       0\n",
              "dtype: int64"
            ]
          },
          "metadata": {}
        }
      ]
    },
    {
      "cell_type": "markdown",
      "metadata": {
        "id": "dK370bPCEEZD"
      },
      "source": [
        "## Анализ данных (3 балла)\n",
        "\n",
        "1) Для численных призанков постройте гистограмму (*plt.hist(...)*) или boxplot (*plt.boxplot(...)*). Для категориальных посчитайте количество каждого значения для каждого признака. Для каждой колонки надо сделать *data.value_counts()* и построить bar диаграммы *plt.bar(...)* или круговые диаграммы *plt.pie(...)* (хорошо, елси вы сможете это сделать на одном гарфике с помощью *plt.subplots(...)*). \n",
        "\n",
        "2) Посмотрите на распределение целевой переменной и скажите, являются ли классы несбалансированными.\n",
        "\n",
        "3) (Если будет желание) Поиграйте с разными библиотеками для визуализации - *sns*, *pandas_visual_analysis*, etc.\n",
        "\n",
        "Второй пункт очень важен, потому что существуют задачи классификации с несбалансированными классами. Например, это может значить, что в датасете намного больше примеров 0 класса. В таких случаях нужно 1) не использовать accuracy как метрику 2) использовать методы борьбы с imbalanced dataset (обычно если датасет сильно несбалансирован, т.е. класса 1 в 20 раз меньше класса 0)."
      ]
    },
    {
      "cell_type": "code",
      "metadata": {
        "id": "NZkbgFJZEEZE",
        "colab": {
          "base_uri": "https://localhost:8080/",
          "height": 608
        },
        "outputId": "d08067ff-fdde-4c2d-892e-c83fd15da418"
      },
      "source": [
        "data[num_cols].hist(grid=False, figsize=(14, 10))\n",
        "None"
      ],
      "execution_count": 118,
      "outputs": [
        {
          "output_type": "display_data",
          "data": {
            "image/png": "[encoded data removed]",
            "text/plain": [
              "<Figure size 1008x720 with 4 Axes>"
            ]
          },
          "metadata": {
            "needs_background": "light"
          }
        }
      ]
    },
    {
      "cell_type": "markdown",
      "metadata": {
        "id": "6Vn4kMhJPt0P"
      },
      "source": [
        "Масштаб признаков отличается. ClientPeriod и MonthlySpending - десятки, а TotalSpent - тысячи. Нужно будет отнормировать данные."
      ]
    },
    {
      "cell_type": "code",
      "metadata": {
        "colab": {
          "base_uri": "https://localhost:8080/",
          "height": 870
        },
        "id": "P2qx7C8yT0pW",
        "outputId": "0c7e6020-5510-4073-e030-fca76ca261f5"
      },
      "source": [
        "fig = plt.figure(figsize =(16, 16))\n",
        "for i in range(len(cat_cols)):\n",
        "  data_i=data[cat_cols[i]].value_counts()\n",
        "  plt.subplot(4,4,i+1)\n",
        "  plt.pie(data_i, labels=data_i.index, autopct='%1.1f%%')\n",
        "  plt.title(cat_cols[i])"
      ],
      "execution_count": 119,
      "outputs": [
        {
          "output_type": "display_data",
          "data": {
            "image/png": "[encoded data removed]",
            "text/plain": [
              "<Figure size 1152x1152 with 16 Axes>"
            ]
          },
          "metadata": {}
        }
      ]
    },
    {
      "cell_type": "code",
      "metadata": {
        "colab": {
          "base_uri": "https://localhost:8080/",
          "height": 592
        },
        "id": "GhaCxyqwgfVd",
        "outputId": "ed71ca0b-cde4-4243-f9b9-bd6c567b2c76"
      },
      "source": [
        "data[target_col].plot.hist(figsize=(14, 10))\n",
        "None"
      ],
      "execution_count": 120,
      "outputs": [
        {
          "output_type": "display_data",
          "data": {
            "image/png": "[encoded data removed]",
            "text/plain": [
              "<Figure size 1008x720 with 1 Axes>"
            ]
          },
          "metadata": {
            "needs_background": "light"
          }
        }
      ]
    },
    {
      "cell_type": "code",
      "metadata": {
        "colab": {
          "base_uri": "https://localhost:8080/"
        },
        "id": "0lBncYCZQE-f",
        "outputId": "08e6ac7c-69b0-4e6a-fc4f-3e52a897ef16"
      },
      "source": [
        "data.Churn[data.Churn ==0].shape[0]/data.Churn[data.Churn ==1].shape[0]"
      ],
      "execution_count": 121,
      "outputs": [
        {
          "output_type": "execute_result",
          "data": {
            "text/plain": [
              "2.816473988439306"
            ]
          },
          "metadata": {},
          "execution_count": 121
        }
      ]
    },
    {
      "cell_type": "markdown",
      "metadata": {
        "id": "Ud-ghCJ8fLjl"
      },
      "source": [
        "**Вывод**: В классе 0 людей больше чем в 1 в 2.81 раз. Классы несбалансированны. Далее для обучения и валидации модели мы будем использовать алгоритмы стратификации.\n",
        "\n"
      ]
    },
    {
      "cell_type": "markdown",
      "metadata": {
        "id": "zg60u3QDEEZH"
      },
      "source": [
        "(Дополнительно) Если вы нашли какие-то ошибки в данных или выбросы, то можете их убрать. Тут можно поэксперементировать с обработкой данных как угодно, но не за баллы."
      ]
    },
    {
      "cell_type": "markdown",
      "metadata": {
        "id": "DviiJd8REEZK"
      },
      "source": [
        "## Применение линейных моделей (3 балла)\n",
        "\n",
        "1) Обработайте данные для того, чтобы к ним можно было применить LogisticRegression. Т.е. отнормируйте числовые признаки, а категориальные закодируйте с помощью one-hot-encoding'а. \n",
        "\n",
        "2) С помощью кроссвалидации или разделения на train/valid выборку протестируйте разные значения гиперпараметра C и выберите лучший (можно тестировать С=100, 10, 1, 0.1, 0.01, 0.001) по метрике ROC-AUC. \n",
        "\n",
        "Если вы разделяете на train/valid, то используйте LogisticRegressionCV. Он сам при вызове .fit() подберет параметр С. (не забудьте передать scroing='roc_auc', чтобы при кроссвалидации сравнивались значения этой метрики, и refit=True, чтобы при потом модель обучилась на всем датасете с лучшим параметром C). \n",
        "\n",
        "\n",
        "(более сложный вариант) Если вы будете использовать кроссвалидацию, то преобразования данных и LogisticRegression нужно соединить в один Pipeline с помощью make_pipeline, как это делалось во втором семинаре. Потом pipeline надо передать в GridSearchCV. Для one-hot-encoding'a можно испльзовать комбинацию LabelEncoder + OneHotEncoder (сначала превращаем строчки в числа, а потом числа првращаем в one-hot вектора.)"
      ]
    },
    {
      "cell_type": "code",
      "metadata": {
        "id": "xHCLDmwqEEZL"
      },
      "source": [
        "from sklearn.linear_model import LogisticRegression, LogisticRegressionCV\n",
        "from sklearn.model_selection import train_test_split, GridSearchCV, StratifiedKFold\n",
        "from sklearn.preprocessing import StandardScaler, RobustScaler, LabelEncoder, OneHotEncoder\n",
        "from sklearn.pipeline import Pipeline\n",
        "from sklearn.compose import ColumnTransformer\n",
        "from sklearn.impute import SimpleImputer\n"
      ],
      "execution_count": 122,
      "outputs": []
    },
    {
      "cell_type": "code",
      "metadata": {
        "id": "P2Yv3uYtEEZO"
      },
      "source": [
        "num_transformer = Pipeline([('imputer', SimpleImputer(strategy='median')),('scaler',StandardScaler())])\n",
        "cat_transformer = Pipeline([('ohe', OneHotEncoder())])\n",
        "preprocessor = ColumnTransformer(transformers=[('num', num_transformer, num_cols), ('cat', cat_transformer, cat_cols)])\n",
        "lr = LogisticRegression(penalty='l2', max_iter=2000, random_state=42)\n",
        "main_pipeline = Pipeline(steps=[('preprocessor', preprocessor), ('estimator', lr)])\n",
        "param_grid = {'estimator__C':[0.01, 0.1, 1, 10, 100, 1000], \n",
        "              'estimator__solver': ['newton-cg', 'sag', 'saga']\n",
        "              }\n",
        "cv = StratifiedKFold(n_splits=3, shuffle=True, random_state=42)\n"
      ],
      "execution_count": 123,
      "outputs": []
    },
    {
      "cell_type": "code",
      "metadata": {
        "colab": {
          "base_uri": "https://localhost:8080/"
        },
        "id": "Epzd7OZT87ET",
        "outputId": "cff3d211-ee58-41ff-d3bc-dd871f5ba7de"
      },
      "source": [
        "gs = GridSearchCV(main_pipeline, param_grid, scoring='roc_auc', cv=cv)\n",
        "gs.fit(data[feature_cols], data[target_col])\n",
        "print(gs.best_score_)\n",
        "print(gs.best_params_)"
      ],
      "execution_count": 124,
      "outputs": [
        {
          "output_type": "stream",
          "name": "stdout",
          "text": [
            "0.8454971427747249\n",
            "{'estimator__C': 10, 'estimator__solver': 'newton-cg'}\n"
          ]
        }
      ]
    },
    {
      "cell_type": "markdown",
      "metadata": {
        "id": "uVahy6JKEEZQ"
      },
      "source": [
        "Выпишите какое лучшее качество и с какими параметрами вам удалось получить"
      ]
    },
    {
      "cell_type": "markdown",
      "metadata": {
        "id": "36729TOQEEZR"
      },
      "source": [
        "Наилучший результат 0.8454971427747249 при параметрах {'estimator__C': 10, 'estimator__solver': 'newton-cg'}\n",
        "\n",
        "\n"
      ]
    },
    {
      "cell_type": "markdown",
      "metadata": {
        "id": "BlTeVy7fEEZR"
      },
      "source": [
        "## Применение градиентного бустинга (2 балла)\n",
        "\n",
        "Если вы хотите получить баллы за точный ответ, то стоит попробовать градиентный бустинг. Часто градиентный бустинг с дефолтными параметрами даст вам 80% результата за 0% усилий.\n",
        "\n",
        "Мы будем использовать catboost, поэтому нам не надо кодировать категориальные признаки. catboost сделает это сам (в .fit() надо передать cat_features=cat_cols). А численные признаки нормировать для моделей, основанных на деревьях не нужно.\n",
        "\n",
        "1) Разделите выборку на train/valid. Протестируйте catboost cо стандартными параметрами.\n",
        "\n",
        "2) Протестируйте разные занчения параметроа количества деревьев и learning_rate'а и выберите лучшую по метрике ROC-AUC комбинацию. \n",
        "\n",
        "(Дополнительно) Есть некоторые сложности с тем, чтобы использовать CatBoostClassifier вместе с GridSearchCV, поэтому мы не просим использовать кроссвалидацию. Но можете попробовать)"
      ]
    },
    {
      "cell_type": "code",
      "metadata": {
        "colab": {
          "base_uri": "https://localhost:8080/"
        },
        "id": "L0pLaBJnUY6m",
        "outputId": "cf8ade86-d0e1-46e4-bea0-e727e4ee1484"
      },
      "source": [
        "!pip install catboost"
      ],
      "execution_count": 99,
      "outputs": [
        {
          "output_type": "stream",
          "name": "stdout",
          "text": [
            "Requirement already satisfied: catboost in /usr/local/lib/python3.7/dist-packages (1.0.1)\n",
            "Requirement already satisfied: six in /usr/local/lib/python3.7/dist-packages (from catboost) (1.15.0)\n",
            "Requirement already satisfied: plotly in /usr/local/lib/python3.7/dist-packages (from catboost) (4.4.1)\n",
            "Requirement already satisfied: numpy>=1.16.0 in /usr/local/lib/python3.7/dist-packages (from catboost) (1.19.5)\n",
            "Requirement already satisfied: pandas>=0.24.0 in /usr/local/lib/python3.7/dist-packages (from catboost) (1.1.5)\n",
            "Requirement already satisfied: scipy in /usr/local/lib/python3.7/dist-packages (from catboost) (1.4.1)\n",
            "Requirement already satisfied: matplotlib in /usr/local/lib/python3.7/dist-packages (from catboost) (3.2.2)\n",
            "Requirement already satisfied: graphviz in /usr/local/lib/python3.7/dist-packages (from catboost) (0.10.1)\n",
            "Requirement already satisfied: pytz>=2017.2 in /usr/local/lib/python3.7/dist-packages (from pandas>=0.24.0->catboost) (2018.9)\n",
            "Requirement already satisfied: python-dateutil>=2.7.3 in /usr/local/lib/python3.7/dist-packages (from pandas>=0.24.0->catboost) (2.8.2)\n",
            "Requirement already satisfied: pyparsing!=2.0.4,!=2.1.2,!=2.1.6,>=2.0.1 in /usr/local/lib/python3.7/dist-packages (from matplotlib->catboost) (2.4.7)\n",
            "Requirement already satisfied: cycler>=0.10 in /usr/local/lib/python3.7/dist-packages (from matplotlib->catboost) (0.10.0)\n",
            "Requirement already satisfied: kiwisolver>=1.0.1 in /usr/local/lib/python3.7/dist-packages (from matplotlib->catboost) (1.3.2)\n",
            "Requirement already satisfied: retrying>=1.3.3 in /usr/local/lib/python3.7/dist-packages (from plotly->catboost) (1.3.3)\n"
          ]
        }
      ]
    },
    {
      "cell_type": "code",
      "metadata": {
        "id": "Fioxxlp-EEZS",
        "colab": {
          "base_uri": "https://localhost:8080/"
        },
        "outputId": "b30d79b6-4796-4f6d-9305-1e090de77cf8"
      },
      "source": [
        "import catboost\n",
        "\n",
        "X_train, X_test, y_train, y_test = train_test_split(data[feature_cols], data[target_col], test_size=0.2,\n",
        "                                                    stratify=data[target_col], random_state=42)\n",
        "\n",
        "param_grid = {'learning_rate': np.arange(0.01, 0.11, 0.01),\n",
        "        'depth': np.arange(2, 7, 1),\n",
        "        'l2_leaf_reg': np.arange(1, 12, 2),\n",
        "        'iterations' : np.arange(100, 501, 100)}\n",
        "\n",
        "clf = catboost.CatBoostClassifier(custom_metric='AUC', cat_features=cat_cols, verbose=False)\n",
        "search_result = clf.randomized_search(param_grid,\n",
        "                                           X_train, y_train,\n",
        "                                           refit=True, stratified=True, n_iter=100, verbose = False)"
      ],
      "execution_count": 101,
      "outputs": [
        {
          "output_type": "stream",
          "name": "stdout",
          "text": [
            "\n",
            "bestTest = 0.4067619704\n",
            "bestIteration = 99\n",
            "\n",
            "Metric AUC is not calculated on train by default. To calculate this metric on train, add hints=skip_train~false to metric parameters.\n",
            "\n",
            "bestTest = 0.4043688318\n",
            "bestIteration = 95\n",
            "\n",
            "Metric AUC is not calculated on train by default. To calculate this metric on train, add hints=skip_train~false to metric parameters.\n",
            "\n",
            "bestTest = 0.4057434465\n",
            "bestIteration = 199\n",
            "\n",
            "Metric AUC is not calculated on train by default. To calculate this metric on train, add hints=skip_train~false to metric parameters.\n",
            "\n",
            "bestTest = 0.4058288443\n",
            "bestIteration = 291\n",
            "\n",
            "Metric AUC is not calculated on train by default. To calculate this metric on train, add hints=skip_train~false to metric parameters.\n",
            "\n",
            "bestTest = 0.4055576565\n",
            "bestIteration = 396\n",
            "\n",
            "Metric AUC is not calculated on train by default. To calculate this metric on train, add hints=skip_train~false to metric parameters.\n",
            "\n",
            "bestTest = 0.4025618068\n",
            "bestIteration = 351\n",
            "\n",
            "Metric AUC is not calculated on train by default. To calculate this metric on train, add hints=skip_train~false to metric parameters.\n",
            "\n",
            "bestTest = 0.4042735466\n",
            "bestIteration = 372\n",
            "\n",
            "Metric AUC is not calculated on train by default. To calculate this metric on train, add hints=skip_train~false to metric parameters.\n",
            "\n",
            "bestTest = 0.4045319507\n",
            "bestIteration = 413\n",
            "\n",
            "Metric AUC is not calculated on train by default. To calculate this metric on train, add hints=skip_train~false to metric parameters.\n",
            "\n",
            "bestTest = 0.4066501844\n",
            "bestIteration = 95\n",
            "\n",
            "Metric AUC is not calculated on train by default. To calculate this metric on train, add hints=skip_train~false to metric parameters.\n",
            "\n",
            "bestTest = 0.4131968949\n",
            "bestIteration = 99\n",
            "\n",
            "Metric AUC is not calculated on train by default. To calculate this metric on train, add hints=skip_train~false to metric parameters.\n",
            "\n",
            "bestTest = 0.4078633737\n",
            "bestIteration = 98\n",
            "\n",
            "Metric AUC is not calculated on train by default. To calculate this metric on train, add hints=skip_train~false to metric parameters.\n",
            "\n",
            "bestTest = 0.4049652709\n",
            "bestIteration = 99\n",
            "\n",
            "Metric AUC is not calculated on train by default. To calculate this metric on train, add hints=skip_train~false to metric parameters.\n",
            "\n",
            "bestTest = 0.4032182116\n",
            "bestIteration = 145\n",
            "\n",
            "Metric AUC is not calculated on train by default. To calculate this metric on train, add hints=skip_train~false to metric parameters.\n",
            "\n",
            "bestTest = 0.4031924543\n",
            "bestIteration = 190\n",
            "\n",
            "Metric AUC is not calculated on train by default. To calculate this metric on train, add hints=skip_train~false to metric parameters.\n",
            "\n",
            "bestTest = 0.4076293977\n",
            "bestIteration = 195\n",
            "\n",
            "Metric AUC is not calculated on train by default. To calculate this metric on train, add hints=skip_train~false to metric parameters.\n",
            "\n",
            "bestTest = 0.4035424872\n",
            "bestIteration = 292\n",
            "\n",
            "Metric AUC is not calculated on train by default. To calculate this metric on train, add hints=skip_train~false to metric parameters.\n",
            "\n",
            "bestTest = 0.4042232376\n",
            "bestIteration = 278\n",
            "\n",
            "Metric AUC is not calculated on train by default. To calculate this metric on train, add hints=skip_train~false to metric parameters.\n",
            "\n",
            "bestTest = 0.4039354815\n",
            "bestIteration = 243\n",
            "\n",
            "Metric AUC is not calculated on train by default. To calculate this metric on train, add hints=skip_train~false to metric parameters.\n",
            "\n",
            "bestTest = 0.4143791588\n",
            "bestIteration = 299\n",
            "\n",
            "Metric AUC is not calculated on train by default. To calculate this metric on train, add hints=skip_train~false to metric parameters.\n",
            "\n",
            "bestTest = 0.413906623\n",
            "bestIteration = 299\n",
            "\n",
            "Metric AUC is not calculated on train by default. To calculate this metric on train, add hints=skip_train~false to metric parameters.\n",
            "\n",
            "bestTest = 0.4041475306\n",
            "bestIteration = 180\n",
            "\n",
            "Metric AUC is not calculated on train by default. To calculate this metric on train, add hints=skip_train~false to metric parameters.\n",
            "\n",
            "bestTest = 0.4045276053\n",
            "bestIteration = 203\n",
            "\n",
            "Metric AUC is not calculated on train by default. To calculate this metric on train, add hints=skip_train~false to metric parameters.\n",
            "\n",
            "bestTest = 0.4060111052\n",
            "bestIteration = 395\n",
            "\n",
            "Metric AUC is not calculated on train by default. To calculate this metric on train, add hints=skip_train~false to metric parameters.\n",
            "\n",
            "bestTest = 0.4027456305\n",
            "bestIteration = 398\n",
            "\n",
            "Metric AUC is not calculated on train by default. To calculate this metric on train, add hints=skip_train~false to metric parameters.\n",
            "\n",
            "bestTest = 0.4045218908\n",
            "bestIteration = 398\n",
            "\n",
            "Metric AUC is not calculated on train by default. To calculate this metric on train, add hints=skip_train~false to metric parameters.\n",
            "\n",
            "bestTest = 0.4031924543\n",
            "bestIteration = 190\n",
            "\n",
            "Metric AUC is not calculated on train by default. To calculate this metric on train, add hints=skip_train~false to metric parameters.\n",
            "\n",
            "bestTest = 0.403281695\n",
            "bestIteration = 192\n",
            "\n",
            "Metric AUC is not calculated on train by default. To calculate this metric on train, add hints=skip_train~false to metric parameters.\n",
            "\n",
            "bestTest = 0.4042170473\n",
            "bestIteration = 360\n",
            "\n",
            "Metric AUC is not calculated on train by default. To calculate this metric on train, add hints=skip_train~false to metric parameters.\n",
            "\n",
            "bestTest = 0.4040369311\n",
            "bestIteration = 499\n",
            "\n",
            "Metric AUC is not calculated on train by default. To calculate this metric on train, add hints=skip_train~false to metric parameters.\n",
            "\n",
            "bestTest = 0.4041348436\n",
            "bestIteration = 182\n",
            "\n",
            "Metric AUC is not calculated on train by default. To calculate this metric on train, add hints=skip_train~false to metric parameters.\n",
            "\n",
            "bestTest = 0.4047667883\n",
            "bestIteration = 262\n",
            "\n",
            "Metric AUC is not calculated on train by default. To calculate this metric on train, add hints=skip_train~false to metric parameters.\n",
            "\n",
            "bestTest = 0.4036215394\n",
            "bestIteration = 458\n",
            "\n",
            "Metric AUC is not calculated on train by default. To calculate this metric on train, add hints=skip_train~false to metric parameters.\n",
            "\n",
            "bestTest = 0.4040713137\n",
            "bestIteration = 350\n",
            "\n",
            "Metric AUC is not calculated on train by default. To calculate this metric on train, add hints=skip_train~false to metric parameters.\n",
            "\n",
            "bestTest = 0.4068098965\n",
            "bestIteration = 92\n",
            "\n",
            "Metric AUC is not calculated on train by default. To calculate this metric on train, add hints=skip_train~false to metric parameters.\n",
            "\n",
            "bestTest = 0.402660959\n",
            "bestIteration = 89\n",
            "\n",
            "Metric AUC is not calculated on train by default. To calculate this metric on train, add hints=skip_train~false to metric parameters.\n",
            "\n",
            "bestTest = 0.4033829071\n",
            "bestIteration = 97\n",
            "\n",
            "Metric AUC is not calculated on train by default. To calculate this metric on train, add hints=skip_train~false to metric parameters.\n",
            "\n",
            "bestTest = 0.4036458569\n",
            "bestIteration = 194\n",
            "\n",
            "Metric AUC is not calculated on train by default. To calculate this metric on train, add hints=skip_train~false to metric parameters.\n",
            "\n",
            "bestTest = 0.4206780423\n",
            "bestIteration = 199\n",
            "\n",
            "Metric AUC is not calculated on train by default. To calculate this metric on train, add hints=skip_train~false to metric parameters.\n",
            "\n",
            "bestTest = 0.4070571956\n",
            "bestIteration = 180\n",
            "\n",
            "Metric AUC is not calculated on train by default. To calculate this metric on train, add hints=skip_train~false to metric parameters.\n",
            "\n",
            "bestTest = 0.4038501905\n",
            "bestIteration = 192\n",
            "\n",
            "Metric AUC is not calculated on train by default. To calculate this metric on train, add hints=skip_train~false to metric parameters.\n",
            "\n",
            "bestTest = 0.4070571956\n",
            "bestIteration = 180\n",
            "\n",
            "Metric AUC is not calculated on train by default. To calculate this metric on train, add hints=skip_train~false to metric parameters.\n",
            "\n",
            "bestTest = 0.4030772632\n",
            "bestIteration = 222\n",
            "\n",
            "Metric AUC is not calculated on train by default. To calculate this metric on train, add hints=skip_train~false to metric parameters.\n",
            "\n",
            "bestTest = 0.4082277888\n",
            "bestIteration = 398\n",
            "\n",
            "Metric AUC is not calculated on train by default. To calculate this metric on train, add hints=skip_train~false to metric parameters.\n",
            "\n",
            "bestTest = 0.4056921438\n",
            "bestIteration = 144\n",
            "\n",
            "Metric AUC is not calculated on train by default. To calculate this metric on train, add hints=skip_train~false to metric parameters.\n",
            "\n",
            "bestTest = 0.4041028228\n",
            "bestIteration = 393\n",
            "\n",
            "Metric AUC is not calculated on train by default. To calculate this metric on train, add hints=skip_train~false to metric parameters.\n",
            "\n",
            "bestTest = 0.4058783912\n",
            "bestIteration = 128\n",
            "\n",
            "Metric AUC is not calculated on train by default. To calculate this metric on train, add hints=skip_train~false to metric parameters.\n",
            "\n",
            "bestTest = 0.4048993987\n",
            "bestIteration = 495\n",
            "\n",
            "Metric AUC is not calculated on train by default. To calculate this metric on train, add hints=skip_train~false to metric parameters.\n",
            "\n",
            "bestTest = 0.402074161\n",
            "bestIteration = 422\n",
            "\n",
            "Metric AUC is not calculated on train by default. To calculate this metric on train, add hints=skip_train~false to metric parameters.\n",
            "\n",
            "bestTest = 0.4038650562\n",
            "bestIteration = 134\n",
            "\n",
            "Metric AUC is not calculated on train by default. To calculate this metric on train, add hints=skip_train~false to metric parameters.\n",
            "\n",
            "bestTest = 0.4028331259\n",
            "bestIteration = 99\n",
            "\n",
            "Metric AUC is not calculated on train by default. To calculate this metric on train, add hints=skip_train~false to metric parameters.\n",
            "\n",
            "bestTest = 0.4193197371\n",
            "bestIteration = 99\n",
            "\n",
            "Metric AUC is not calculated on train by default. To calculate this metric on train, add hints=skip_train~false to metric parameters.\n",
            "\n",
            "bestTest = 0.4039169867\n",
            "bestIteration = 159\n",
            "\n",
            "Metric AUC is not calculated on train by default. To calculate this metric on train, add hints=skip_train~false to metric parameters.\n",
            "\n",
            "bestTest = 0.4044080143\n",
            "bestIteration = 192\n",
            "\n",
            "Metric AUC is not calculated on train by default. To calculate this metric on train, add hints=skip_train~false to metric parameters.\n",
            "\n",
            "bestTest = 0.4017243385\n",
            "bestIteration = 168\n",
            "\n",
            "Metric AUC is not calculated on train by default. To calculate this metric on train, add hints=skip_train~false to metric parameters.\n",
            "\n",
            "bestTest = 0.4053533037\n",
            "bestIteration = 199\n",
            "\n",
            "Metric AUC is not calculated on train by default. To calculate this metric on train, add hints=skip_train~false to metric parameters.\n",
            "\n",
            "bestTest = 0.4036861989\n",
            "bestIteration = 187\n",
            "\n",
            "Metric AUC is not calculated on train by default. To calculate this metric on train, add hints=skip_train~false to metric parameters.\n",
            "\n",
            "bestTest = 0.4052441161\n",
            "bestIteration = 298\n",
            "\n",
            "Metric AUC is not calculated on train by default. To calculate this metric on train, add hints=skip_train~false to metric parameters.\n",
            "\n",
            "bestTest = 0.4053253576\n",
            "bestIteration = 165\n",
            "\n",
            "Metric AUC is not calculated on train by default. To calculate this metric on train, add hints=skip_train~false to metric parameters.\n",
            "\n",
            "bestTest = 0.4048482437\n",
            "bestIteration = 250\n",
            "\n",
            "Metric AUC is not calculated on train by default. To calculate this metric on train, add hints=skip_train~false to metric parameters.\n",
            "\n",
            "bestTest = 0.4028672847\n",
            "bestIteration = 224\n",
            "\n",
            "Metric AUC is not calculated on train by default. To calculate this metric on train, add hints=skip_train~false to metric parameters.\n",
            "\n",
            "bestTest = 0.4049459627\n",
            "bestIteration = 51\n",
            "\n",
            "Metric AUC is not calculated on train by default. To calculate this metric on train, add hints=skip_train~false to metric parameters.\n",
            "\n",
            "bestTest = 0.4048076797\n",
            "bestIteration = 367\n",
            "\n",
            "Metric AUC is not calculated on train by default. To calculate this metric on train, add hints=skip_train~false to metric parameters.\n",
            "\n",
            "bestTest = 0.4037261973\n",
            "bestIteration = 186\n",
            "\n",
            "Metric AUC is not calculated on train by default. To calculate this metric on train, add hints=skip_train~false to metric parameters.\n",
            "\n",
            "bestTest = 0.4040440748\n",
            "bestIteration = 376\n",
            "\n",
            "Metric AUC is not calculated on train by default. To calculate this metric on train, add hints=skip_train~false to metric parameters.\n",
            "\n",
            "bestTest = 0.4068757759\n",
            "bestIteration = 399\n",
            "\n",
            "Metric AUC is not calculated on train by default. To calculate this metric on train, add hints=skip_train~false to metric parameters.\n",
            "\n",
            "bestTest = 0.401946664\n",
            "bestIteration = 370\n",
            "\n",
            "Metric AUC is not calculated on train by default. To calculate this metric on train, add hints=skip_train~false to metric parameters.\n",
            "\n",
            "bestTest = 0.4086046686\n",
            "bestIteration = 92\n",
            "\n",
            "Metric AUC is not calculated on train by default. To calculate this metric on train, add hints=skip_train~false to metric parameters.\n",
            "\n",
            "bestTest = 0.406716821\n",
            "bestIteration = 495\n",
            "\n",
            "Metric AUC is not calculated on train by default. To calculate this metric on train, add hints=skip_train~false to metric parameters.\n",
            "\n",
            "bestTest = 0.4012423817\n",
            "bestIteration = 457\n",
            "\n",
            "Metric AUC is not calculated on train by default. To calculate this metric on train, add hints=skip_train~false to metric parameters.\n",
            "\n",
            "bestTest = 0.4053653172\n",
            "bestIteration = 161\n",
            "\n",
            "Metric AUC is not calculated on train by default. To calculate this metric on train, add hints=skip_train~false to metric parameters.\n",
            "\n",
            "bestTest = 0.4061113406\n",
            "bestIteration = 93\n",
            "\n",
            "Metric AUC is not calculated on train by default. To calculate this metric on train, add hints=skip_train~false to metric parameters.\n",
            "\n",
            "bestTest = 0.4569298344\n",
            "bestIteration = 99\n",
            "\n",
            "Metric AUC is not calculated on train by default. To calculate this metric on train, add hints=skip_train~false to metric parameters.\n",
            "\n",
            "bestTest = 0.409313811\n",
            "bestIteration = 99\n",
            "\n",
            "Metric AUC is not calculated on train by default. To calculate this metric on train, add hints=skip_train~false to metric parameters.\n",
            "\n",
            "bestTest = 0.4163051823\n",
            "bestIteration = 99\n",
            "\n",
            "Metric AUC is not calculated on train by default. To calculate this metric on train, add hints=skip_train~false to metric parameters.\n",
            "\n",
            "bestTest = 0.4056787319\n",
            "bestIteration = 130\n",
            "\n",
            "Metric AUC is not calculated on train by default. To calculate this metric on train, add hints=skip_train~false to metric parameters.\n",
            "\n",
            "bestTest = 0.4077545043\n",
            "bestIteration = 120\n",
            "\n",
            "Metric AUC is not calculated on train by default. To calculate this metric on train, add hints=skip_train~false to metric parameters.\n",
            "\n",
            "bestTest = 0.4050544219\n",
            "bestIteration = 176\n",
            "\n",
            "Metric AUC is not calculated on train by default. To calculate this metric on train, add hints=skip_train~false to metric parameters.\n",
            "\n",
            "bestTest = 0.4097602412\n",
            "bestIteration = 87\n",
            "\n",
            "Metric AUC is not calculated on train by default. To calculate this metric on train, add hints=skip_train~false to metric parameters.\n",
            "\n",
            "bestTest = 0.4074084112\n",
            "bestIteration = 197\n",
            "\n",
            "Metric AUC is not calculated on train by default. To calculate this metric on train, add hints=skip_train~false to metric parameters.\n",
            "\n",
            "bestTest = 0.4067351755\n",
            "bestIteration = 83\n",
            "\n",
            "Metric AUC is not calculated on train by default. To calculate this metric on train, add hints=skip_train~false to metric parameters.\n",
            "\n",
            "bestTest = 0.4058722502\n",
            "bestIteration = 199\n",
            "\n",
            "Metric AUC is not calculated on train by default. To calculate this metric on train, add hints=skip_train~false to metric parameters.\n",
            "\n",
            "bestTest = 0.4056787319\n",
            "bestIteration = 130\n",
            "\n",
            "Metric AUC is not calculated on train by default. To calculate this metric on train, add hints=skip_train~false to metric parameters.\n",
            "\n",
            "bestTest = 0.4070822836\n",
            "bestIteration = 170\n",
            "\n",
            "Metric AUC is not calculated on train by default. To calculate this metric on train, add hints=skip_train~false to metric parameters.\n",
            "\n",
            "bestTest = 0.4050143463\n",
            "bestIteration = 205\n",
            "\n",
            "Metric AUC is not calculated on train by default. To calculate this metric on train, add hints=skip_train~false to metric parameters.\n",
            "\n",
            "bestTest = 0.409949977\n",
            "bestIteration = 299\n",
            "\n",
            "Metric AUC is not calculated on train by default. To calculate this metric on train, add hints=skip_train~false to metric parameters.\n",
            "\n",
            "bestTest = 0.4051453252\n",
            "bestIteration = 132\n",
            "\n",
            "Metric AUC is not calculated on train by default. To calculate this metric on train, add hints=skip_train~false to metric parameters.\n",
            "\n",
            "bestTest = 0.4068342159\n",
            "bestIteration = 70\n",
            "\n",
            "Metric AUC is not calculated on train by default. To calculate this metric on train, add hints=skip_train~false to metric parameters.\n",
            "\n",
            "bestTest = 0.4059967135\n",
            "bestIteration = 179\n",
            "\n",
            "Metric AUC is not calculated on train by default. To calculate this metric on train, add hints=skip_train~false to metric parameters.\n",
            "\n",
            "bestTest = 0.4076194692\n",
            "bestIteration = 182\n",
            "\n",
            "Metric AUC is not calculated on train by default. To calculate this metric on train, add hints=skip_train~false to metric parameters.\n",
            "\n",
            "bestTest = 0.4084119993\n",
            "bestIteration = 98\n",
            "\n",
            "Metric AUC is not calculated on train by default. To calculate this metric on train, add hints=skip_train~false to metric parameters.\n",
            "\n",
            "bestTest = 0.4065406948\n",
            "bestIteration = 115\n",
            "\n",
            "Metric AUC is not calculated on train by default. To calculate this metric on train, add hints=skip_train~false to metric parameters.\n",
            "\n",
            "bestTest = 0.4072927438\n",
            "bestIteration = 76\n",
            "\n",
            "Metric AUC is not calculated on train by default. To calculate this metric on train, add hints=skip_train~false to metric parameters.\n",
            "\n",
            "bestTest = 0.4077383892\n",
            "bestIteration = 399\n",
            "\n",
            "Metric AUC is not calculated on train by default. To calculate this metric on train, add hints=skip_train~false to metric parameters.\n",
            "\n",
            "bestTest = 0.4055387156\n",
            "bestIteration = 359\n",
            "\n",
            "Metric AUC is not calculated on train by default. To calculate this metric on train, add hints=skip_train~false to metric parameters.\n",
            "\n",
            "bestTest = 0.4094982463\n",
            "bestIteration = 89\n",
            "\n",
            "Metric AUC is not calculated on train by default. To calculate this metric on train, add hints=skip_train~false to metric parameters.\n",
            "\n",
            "bestTest = 0.4053803235\n",
            "bestIteration = 122\n",
            "\n",
            "Metric AUC is not calculated on train by default. To calculate this metric on train, add hints=skip_train~false to metric parameters.\n",
            "\n",
            "bestTest = 0.4088317609\n",
            "bestIteration = 57\n",
            "\n",
            "Metric AUC is not calculated on train by default. To calculate this metric on train, add hints=skip_train~false to metric parameters.\n",
            "\n",
            "bestTest = 0.403754444\n",
            "bestIteration = 127\n",
            "\n",
            "Metric AUC is not calculated on train by default. To calculate this metric on train, add hints=skip_train~false to metric parameters.\n",
            "\n",
            "bestTest = 0.4060689395\n",
            "bestIteration = 293\n",
            "\n",
            "Metric AUC is not calculated on train by default. To calculate this metric on train, add hints=skip_train~false to metric parameters.\n",
            "\n",
            "bestTest = 0.4075190135\n",
            "bestIteration = 167\n",
            "\n",
            "Metric AUC is not calculated on train by default. To calculate this metric on train, add hints=skip_train~false to metric parameters.\n",
            "Training on fold [0/3]\n",
            "\n",
            "bestTest = 0.4126038165\n",
            "bestIteration = 195\n",
            "\n",
            "Training on fold [1/3]\n",
            "\n",
            "bestTest = 0.4109009137\n",
            "bestIteration = 190\n",
            "\n",
            "Training on fold [2/3]\n",
            "\n",
            "bestTest = 0.417812734\n",
            "bestIteration = 497\n",
            "\n"
          ]
        }
      ]
    },
    {
      "cell_type": "code",
      "metadata": {
        "colab": {
          "base_uri": "https://localhost:8080/"
        },
        "id": "9DjyZJndZipJ",
        "outputId": "717a6154-ce30-426b-a4aa-568bcda60d8d"
      },
      "source": [
        "best_model = catboost.CatBoostClassifier(cat_features = cat_cols, custom_metric='AUC', \n",
        "                                         verbose=False, **search_result['params'])\n",
        "best_model.fit(X_train, y_train)\n",
        "y_test_predicted = best_model.predict_proba(X_test)[:,1]\n",
        "print('ROC_AUC_test=', roc_auc_score(y_test, y_test_predicted))\n",
        "print('Best Params:', search_result['params'])"
      ],
      "execution_count": 107,
      "outputs": [
        {
          "output_type": "stream",
          "name": "stdout",
          "text": [
            "ROC_AUC_test= 0.8557322040174024\n",
            "Best Params: {'depth': 5, 'l2_leaf_reg': 11, 'iterations': 500, 'learning_rate': 0.04}\n"
          ]
        }
      ]
    },
    {
      "cell_type": "markdown",
      "metadata": {
        "id": "rf4Kjt96EEZU"
      },
      "source": [
        "Выпишите какое лучшее качество и с какими параметрами вам удалось получить"
      ]
    },
    {
      "cell_type": "markdown",
      "metadata": {
        "id": "H37W1nHllaUJ"
      },
      "source": [
        "ROC_AUC_test_best= 0.8557322040174024\n",
        "\n",
        "Best Params: {'depth': 5, 'l2_leaf_reg': 11, 'iterations': 500, 'learning_rate': 0.04}\n"
      ]
    },
    {
      "cell_type": "markdown",
      "metadata": {
        "id": "dDMXbvNZEEZV"
      },
      "source": [
        "# Предсказания"
      ]
    },
    {
      "cell_type": "code",
      "metadata": {
        "id": "G_P4wFNaEEZW"
      },
      "source": [
        "best_model = best_model"
      ],
      "execution_count": 37,
      "outputs": []
    },
    {
      "cell_type": "code",
      "metadata": {
        "id": "FfSufx0CEEZZ"
      },
      "source": [
        "X_test = pd.read_csv('./test.csv')\n",
        "submission = pd.read_csv('./submission.csv')\n",
        "X_test = X_test.replace(' ', float('0'))\n",
        "X_test['TotalSpent'] = X_test['TotalSpent'].astype('float')\n",
        "\n",
        "submission['Churn'] = best_model.predict_proba(X_test)[:, 1]\n",
        "submission.to_csv('./my_submission.csv', index=False)"
      ],
      "execution_count": 110,
      "outputs": []
    },
    {
      "cell_type": "markdown",
      "metadata": {
        "id": "mkxjbGkVEEZc"
      },
      "source": [
        "# Kaggle (5 баллов)\n",
        "\n",
        "Как выставить баллы:\n",
        "\n",
        "1) 1 >= roc auc > 0.84 это 5 баллов\n",
        "\n",
        "2) 0.84 >= roc auc > 0.7 это 3 балла\n",
        "\n",
        "3) 0.7 >= roc auc > 0.6 это 1 балл\n",
        "\n",
        "4) 0.6 >= roc auc это 0 баллов\n",
        "\n",
        "\n",
        "Для выполнения задания необходимо выполнить следующие шаги.\n",
        "* Зарегистрироваться на платформе [kaggle.com](kaggle.com). Процесс выставления оценок будет проходить при подведении итогового рейтинга. Пожалуйста, укажите во вкладке Team -> Team name свои имя и фамилию в формате Имя_Фамилия (важно, чтобы имя и фамилия совпадали с данными на Stepik).\n",
        "* Обучить модель, получить файл с ответами в формате .csv и сдать его в конкурс. Пробуйте и экспериментируйте. Обратите внимание, что вы можете выполнять до 20 попыток сдачи на kaggle в день.\n",
        "* После окончания соревнования отправить в итоговый ноутбук с решением на степик. \n",
        "* После дедлайна проверьте посылки других участников по критериям. Для этого надо зайти на степик, скачать их ноутбук и проверить скор в соревновании."
      ]
    },
    {
      "cell_type": "markdown",
      "metadata": {
        "id": "8JtfHjIQl0wN"
      },
      "source": [
        "![image.png](data:image/png;base64,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)"
      ]
    }
  ]
}